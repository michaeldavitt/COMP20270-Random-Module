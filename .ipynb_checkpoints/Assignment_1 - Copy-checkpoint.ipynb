{
 "cells": [
  {
   "cell_type": "code",
   "execution_count": 1,
   "id": "72aa0b39",
   "metadata": {},
   "outputs": [],
   "source": [
    "import time"
   ]
  },
  {
   "cell_type": "code",
   "execution_count": 2,
   "id": "ea087f5a",
   "metadata": {},
   "outputs": [
    {
     "ename": "NameError",
     "evalue": "name 'self' is not defined",
     "output_type": "error",
     "traceback": [
      "\u001b[1;31m---------------------------------------------------------------------------\u001b[0m",
      "\u001b[1;31mNameError\u001b[0m                                 Traceback (most recent call last)",
      "\u001b[1;32m<ipython-input-2-1b0b24b4f494>\u001b[0m in \u001b[0;36m<module>\u001b[1;34m\u001b[0m\n\u001b[1;32m----> 1\u001b[1;33m \u001b[1;32mclass\u001b[0m \u001b[0mMyRandom\u001b[0m\u001b[1;33m(\u001b[0m\u001b[1;33m)\u001b[0m\u001b[1;33m:\u001b[0m\u001b[1;33m\u001b[0m\u001b[1;33m\u001b[0m\u001b[0m\n\u001b[0m\u001b[0;32m      2\u001b[0m     \u001b[1;32mdef\u001b[0m \u001b[0m__init__\u001b[0m\u001b[1;33m(\u001b[0m\u001b[0mself\u001b[0m\u001b[1;33m,\u001b[0m \u001b[0mseed\u001b[0m\u001b[1;33m=\u001b[0m\u001b[0mint\u001b[0m\u001b[1;33m(\u001b[0m\u001b[0mtime\u001b[0m\u001b[1;33m.\u001b[0m\u001b[0mtime\u001b[0m\u001b[1;33m(\u001b[0m\u001b[1;33m)\u001b[0m\u001b[1;33m)\u001b[0m\u001b[1;33m)\u001b[0m\u001b[1;33m:\u001b[0m\u001b[1;33m\u001b[0m\u001b[1;33m\u001b[0m\u001b[0m\n\u001b[0;32m      3\u001b[0m         \u001b[0mself\u001b[0m\u001b[1;33m.\u001b[0m\u001b[0mseed\u001b[0m \u001b[1;33m=\u001b[0m \u001b[0mseed\u001b[0m\u001b[1;33m\u001b[0m\u001b[1;33m\u001b[0m\u001b[0m\n\u001b[0;32m      4\u001b[0m         \u001b[0mself\u001b[0m\u001b[1;33m.\u001b[0m\u001b[0mrand_count\u001b[0m \u001b[1;33m=\u001b[0m \u001b[1;36m0\u001b[0m\u001b[1;33m\u001b[0m\u001b[1;33m\u001b[0m\u001b[0m\n\u001b[0;32m      5\u001b[0m         \u001b[0mself\u001b[0m\u001b[1;33m.\u001b[0m\u001b[0mrand_bet_count\u001b[0m \u001b[1;33m=\u001b[0m \u001b[1;36m0\u001b[0m\u001b[1;33m\u001b[0m\u001b[1;33m\u001b[0m\u001b[0m\n",
      "\u001b[1;32m<ipython-input-2-1b0b24b4f494>\u001b[0m in \u001b[0;36mMyRandom\u001b[1;34m()\u001b[0m\n\u001b[0;32m     14\u001b[0m \u001b[1;33m\u001b[0m\u001b[0m\n\u001b[0;32m     15\u001b[0m \u001b[1;33m\u001b[0m\u001b[0m\n\u001b[1;32m---> 16\u001b[1;33m     \u001b[1;32mdef\u001b[0m \u001b[0mrand\u001b[0m\u001b[1;33m(\u001b[0m\u001b[0mself\u001b[0m\u001b[1;33m,\u001b[0m \u001b[0mindex\u001b[0m \u001b[1;33m=\u001b[0m \u001b[0mself\u001b[0m\u001b[1;33m.\u001b[0m\u001b[0mrand_count\u001b[0m\u001b[1;33m)\u001b[0m\u001b[1;33m:\u001b[0m\u001b[1;33m\u001b[0m\u001b[1;33m\u001b[0m\u001b[0m\n\u001b[0m\u001b[0;32m     17\u001b[0m         \u001b[0mcounter\u001b[0m \u001b[1;33m=\u001b[0m \u001b[1;33m-\u001b[0m\u001b[1;36m1\u001b[0m\u001b[1;33m\u001b[0m\u001b[1;33m\u001b[0m\u001b[0m\n\u001b[0;32m     18\u001b[0m         \u001b[1;32mfor\u001b[0m \u001b[0mi\u001b[0m \u001b[1;32min\u001b[0m \u001b[0mself\u001b[0m\u001b[1;33m.\u001b[0m\u001b[0m_randint\u001b[0m\u001b[1;33m(\u001b[0m\u001b[0mself\u001b[0m\u001b[1;33m.\u001b[0m\u001b[0mseed\u001b[0m\u001b[1;33m)\u001b[0m\u001b[1;33m:\u001b[0m\u001b[1;33m\u001b[0m\u001b[1;33m\u001b[0m\u001b[0m\n",
      "\u001b[1;31mNameError\u001b[0m: name 'self' is not defined"
     ]
    }
   ],
   "source": [
    "class MyRandom():\n",
    "    def __init__(self, seed=int(time.time())):\n",
    "        self.seed = seed\n",
    "        self.rand_count = 0\n",
    "        self.rand_bet_count = 0\n",
    "        self.rand_choice_count = 0\n",
    "    \n",
    "    \n",
    "    def _randint(self, seed, modulus = 2**16 + 1, a = 75, c = 74):\n",
    "        \"\"\"Linear congruential generator.\"\"\"\n",
    "        while True:\n",
    "            seed = (a * seed + c) % modulus\n",
    "            yield seed\n",
    "            \n",
    "    \n",
    "    def rand(self, index = 2):\n",
    "        counter = -1\n",
    "        for i in self._randint(self.seed):\n",
    "            counter += 1\n",
    "            if counter == index:\n",
    "                self.rand_count += 1\n",
    "                return i / (2**16 - 1)\n",
    "    \n",
    "    \n",
    "    def randint(self, bot, top, index = self.rand_bet_count):\n",
    "        if type(bot) == type(top) == int and top >= bot:\n",
    "            rand_int = self.rand(index)\n",
    "            self.rand_count -= 1\n",
    "            return int(round((top - bot) * rand_int + bot, 0))\n",
    "                       \n",
    "        else:\n",
    "            return \"Error, invalid input\"\n",
    "    \n",
    "    \n",
    "    def shuffle(self, shuffle_list):\n",
    "        if type(shuffle_list) == list:\n",
    "            pass\n",
    "        \n",
    "        else:\n",
    "            return \"Error, input must be a list\"\n",
    "    \n",
    "    \n",
    "    def choice(self, choice_list):\n",
    "        if type(choice_list) == list:\n",
    "            bot, top = 0, len(choice_list)\n",
    "            counter = -1\n",
    "            for i in self._randint(self.seed):\n",
    "                counter += 1\n",
    "                if counter == self.rand_choice_count:\n",
    "                    self.rand_choice_count += 1\n",
    "                    return choice_list[int(round((top - bot) * (i / (2**16 - 1)) + bot, 0))]\n",
    "                \n",
    "        else:\n",
    "            return \"Error, input must be a list\"\n",
    "        \n",
    "    \n",
    "    def set_seed(self, new):\n",
    "        self.seed = new\n",
    "        self.rand_count = 0\n",
    "        self.rand_bet_count = 0\n",
    "        self.rand_choice_count = 0\n",
    "\n",
    "        \n",
    "class MyDie(MyRandom):\n",
    "    def throw(self):\n",
    "        return self.randint(1, 6)\n",
    "\n",
    "class MyCoin(MyRandom):\n",
    "    outcome = [\"Heads\", \"Tails\"]\n",
    "    \n",
    "    def toss(self):\n",
    "        return self.outcome[self.randint(0, 1)]"
   ]
  },
  {
   "cell_type": "code",
   "execution_count": 3,
   "id": "7e318c16",
   "metadata": {},
   "outputs": [
    {
     "ename": "NameError",
     "evalue": "name 'MyRandom' is not defined",
     "output_type": "error",
     "traceback": [
      "\u001b[1;31m---------------------------------------------------------------------------\u001b[0m",
      "\u001b[1;31mNameError\u001b[0m                                 Traceback (most recent call last)",
      "\u001b[1;32m<ipython-input-3-140815ff8deb>\u001b[0m in \u001b[0;36m<module>\u001b[1;34m\u001b[0m\n\u001b[1;32m----> 1\u001b[1;33m \u001b[0mmr1\u001b[0m \u001b[1;33m=\u001b[0m \u001b[0mMyRandom\u001b[0m\u001b[1;33m(\u001b[0m\u001b[1;33m)\u001b[0m\u001b[1;33m\u001b[0m\u001b[1;33m\u001b[0m\u001b[0m\n\u001b[0m\u001b[0;32m      2\u001b[0m \u001b[0mprint\u001b[0m\u001b[1;33m(\u001b[0m\u001b[0mmr1\u001b[0m\u001b[1;33m.\u001b[0m\u001b[0mrand\u001b[0m\u001b[1;33m(\u001b[0m\u001b[1;33m)\u001b[0m\u001b[1;33m)\u001b[0m\u001b[1;33m\u001b[0m\u001b[1;33m\u001b[0m\u001b[0m\n\u001b[0;32m      3\u001b[0m \u001b[0mprint\u001b[0m\u001b[1;33m(\u001b[0m\u001b[0mmr1\u001b[0m\u001b[1;33m.\u001b[0m\u001b[0mrand\u001b[0m\u001b[1;33m(\u001b[0m\u001b[1;33m)\u001b[0m\u001b[1;33m)\u001b[0m\u001b[1;33m\u001b[0m\u001b[1;33m\u001b[0m\u001b[0m\n",
      "\u001b[1;31mNameError\u001b[0m: name 'MyRandom' is not defined"
     ]
    }
   ],
   "source": [
    "mr1 = MyRandom()\n",
    "print(mr1.rand())\n",
    "print(mr1.rand())"
   ]
  },
  {
   "cell_type": "code",
   "execution_count": null,
   "id": "12b2b47a",
   "metadata": {},
   "outputs": [],
   "source": [
    "mr1 = MyRandom()\n",
    "print(mr1.rand())\n",
    "print(mr1.rand())"
   ]
  },
  {
   "cell_type": "code",
   "execution_count": null,
   "id": "fd32f0ca",
   "metadata": {},
   "outputs": [],
   "source": [
    "mr2 = MyRandom(seed = 11)\n",
    "print(mr2.rand())\n"
   ]
  },
  {
   "cell_type": "code",
   "execution_count": null,
   "id": "924eab73",
   "metadata": {},
   "outputs": [],
   "source": [
    "mr2 = MyRandom(seed = 11)\n",
    "print(mr2.rand())\n",
    "mr2.set_seed(12)\n",
    "print(mr2.rand())\n",
    "print(mr2.rand())"
   ]
  },
  {
   "cell_type": "code",
   "execution_count": null,
   "id": "5226c932",
   "metadata": {},
   "outputs": [],
   "source": [
    "for i in range(5):\n",
    "    print(mr2.rand())\n"
   ]
  },
  {
   "cell_type": "code",
   "execution_count": null,
   "id": "f83b87cd",
   "metadata": {},
   "outputs": [],
   "source": [
    "for i in range(5):\n",
    "    print(mr2.randint(\"nine\",15))\n"
   ]
  },
  {
   "cell_type": "code",
   "execution_count": null,
   "id": "611799e5",
   "metadata": {},
   "outputs": [],
   "source": [
    "mr1.choice(['Ace','King','Queen','Jack'])"
   ]
  },
  {
   "cell_type": "code",
   "execution_count": null,
   "id": "37e3e956",
   "metadata": {},
   "outputs": [],
   "source": [
    "mr1.set_seed(13)\n",
    "mr1.choice(['Ace','King','Queen','Jack'])"
   ]
  },
  {
   "cell_type": "code",
   "execution_count": null,
   "id": "ce83ede0",
   "metadata": {},
   "outputs": [],
   "source": [
    "mr1.set_seed(13)\n",
    "mr1.choice(['Ace','King','Queen','Jack'])"
   ]
  },
  {
   "cell_type": "code",
   "execution_count": null,
   "id": "e246882b",
   "metadata": {},
   "outputs": [],
   "source": [
    "mr1.set_seed(13)\n",
    "print(mr1.choice('Ace'))"
   ]
  },
  {
   "cell_type": "code",
   "execution_count": null,
   "id": "e511c426",
   "metadata": {},
   "outputs": [],
   "source": [
    "mc1 = MyCoin()\n"
   ]
  },
  {
   "cell_type": "code",
   "execution_count": null,
   "id": "3bfffbd3",
   "metadata": {},
   "outputs": [],
   "source": [
    "mc1.set_seed(42)\n",
    "mc1.toss()"
   ]
  },
  {
   "cell_type": "code",
   "execution_count": null,
   "id": "6c3ed6bd",
   "metadata": {},
   "outputs": [],
   "source": [
    "mc1.set_seed(42)\n",
    "mc1.toss()"
   ]
  },
  {
   "cell_type": "code",
   "execution_count": null,
   "id": "362f3cdc",
   "metadata": {},
   "outputs": [],
   "source": [
    "mc1.set_seed(42)\n",
    "mc1.toss()"
   ]
  },
  {
   "cell_type": "code",
   "execution_count": null,
   "id": "0fa82d76",
   "metadata": {},
   "outputs": [],
   "source": [
    "md1 = MyDie(7)\n"
   ]
  },
  {
   "cell_type": "code",
   "execution_count": null,
   "id": "39522199",
   "metadata": {},
   "outputs": [],
   "source": [
    "mc1.set_seed(42)\n",
    "for i in range(5):\n",
    "    print(md1.throw(), mc1.toss())\n"
   ]
  },
  {
   "cell_type": "code",
   "execution_count": null,
   "id": "5c8d3a67",
   "metadata": {},
   "outputs": [],
   "source": [
    "md2 = MyDie(7)\n",
    "mc2 = MyCoin(42)\n",
    "for i in range(5):\n",
    "    print(md2.throw(), mc2.toss())"
   ]
  }
 ],
 "metadata": {
  "kernelspec": {
   "display_name": "Python 3",
   "language": "python",
   "name": "python3"
  },
  "language_info": {
   "codemirror_mode": {
    "name": "ipython",
    "version": 3
   },
   "file_extension": ".py",
   "mimetype": "text/x-python",
   "name": "python",
   "nbconvert_exporter": "python",
   "pygments_lexer": "ipython3",
   "version": "3.8.8"
  }
 },
 "nbformat": 4,
 "nbformat_minor": 5
}
