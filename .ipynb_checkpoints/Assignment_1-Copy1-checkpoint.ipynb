{
 "cells": [
  {
   "cell_type": "markdown",
   "id": "bea976ff",
   "metadata": {},
   "source": [
    "# Assignment 1 - Random"
   ]
  },
  {
   "cell_type": "markdown",
   "id": "2c1c0437",
   "metadata": {},
   "source": [
    "## Class Construction"
   ]
  },
  {
   "cell_type": "code",
   "execution_count": null,
   "id": "72aa0b39",
   "metadata": {},
   "outputs": [],
   "source": [
    "import time"
   ]
  },
  {
   "cell_type": "code",
   "execution_count": null,
   "id": "ea087f5a",
   "metadata": {},
   "outputs": [],
   "source": [
    "class MyRandom():\n",
    "    \n",
    "    def __init__(self, *args, **kwargs):\n",
    "        self.seed(*args, **kwargs)\n",
    "        \n",
    "        \n",
    "    def _randint(self, x, modulus = 2**16 + 1, a = 75, c = 74):\n",
    "        \"\"\"Linear congruential generator.\n",
    "        \n",
    "        Produces a different random integer each time it is called\n",
    "        \"\"\"\n",
    "        while True:\n",
    "            x = (a * x + c) % modulus\n",
    "            yield x\n",
    "            \n",
    "    \n",
    "    def rand(self):\n",
    "        \"\"\"Returns a random float between 0 and 1\"\"\"\n",
    "        counter = -1\n",
    "        for i in self._randint(self._seed):\n",
    "            counter += 1\n",
    "            if counter == self.rand_count:\n",
    "                self.rand_count += 1\n",
    "                return i / (2**16 - 1)\n",
    "    \n",
    "    \n",
    "    def randint(self, bot, top):\n",
    "        \"\"\"Takes two integers as argument and returns a random integer between these two integers\"\"\"\n",
    "        if type(bot) == type(top) == int and top >= bot:\n",
    "            counter = -1\n",
    "            for i in self._randint(self._seed):\n",
    "                counter += 1\n",
    "                if counter == self.rand_bet_count:\n",
    "                    self.rand_bet_count += 1\n",
    "                    return int(round((top - bot) * (i / (2**16 - 1)) + bot, 0))\n",
    "                \n",
    "        else:\n",
    "            return \"Error, invalid input\"\n",
    "    \n",
    "    \n",
    "    def shuffle(self, shuffle_list):\n",
    "        \"\"\"Takes a list as argument and returns a shuffled version of that list\"\"\"\n",
    "        if type(shuffle_list) == list:\n",
    "\n",
    "            for i in range(len(shuffle_list)-1, 0, -1):\n",
    "                bot, top = 0, i\n",
    "                counter = -1\n",
    "                for j in self._randint(self._seed):\n",
    "                    counter += 1\n",
    "                    if counter == self.rand_shuffle_count:\n",
    "                        self.rand_shuffle_count += 1\n",
    "                        j = int(round((top - bot) * (j / (2**16 - 1)) + bot, 0))\n",
    "                        shuffle_list[i], shuffle_list[j] = shuffle_list[j], shuffle_list[i]\n",
    "                        break\n",
    "                    \n",
    "                            \n",
    "            \n",
    "            return shuffle_list\n",
    "                \n",
    "        \n",
    "        else:\n",
    "            return \"Error, input must be a list\"\n",
    "    \n",
    "    \n",
    "    def choice(self, choice_list):\n",
    "        \"\"\"Selects a single item at random from a list given as argument\"\"\"\n",
    "        if type(choice_list) == list:\n",
    "            bot, top = 0, len(choice_list) - 1\n",
    "            counter = -1\n",
    "            for i in self._randint(self._seed):\n",
    "                counter += 1\n",
    "                if counter == self.rand_choice_count:\n",
    "                    self.rand_choice_count += 1\n",
    "                    print(int(round((top - bot) * (i / (2**16 - 1)) + bot, 0)))\n",
    "                    return choice_list[int(round((top - bot) * (i / (2**16 - 1)) + bot, 0))]\n",
    "                \n",
    "        else:\n",
    "            return \"Error, input must be a list\"\n",
    "        \n",
    "    \n",
    "    def seed(self, *args, **kwargs):\n",
    "        \"\"\"Sets the seed for an instance, and initialises the seed counters\"\"\"\n",
    "        \n",
    "        # Test passed if the user does not supply an argument\n",
    "        if len(args) == 0 and len(kwargs) == 0:\n",
    "            self._seed = int(time.time())\n",
    "            \n",
    "        # Test passed if the user supplies a positional argument that is either an integer or a float\n",
    "        elif len(args) > 0 and type(args[0]) in (int, float):\n",
    "            self._seed = args[0]\n",
    "            \n",
    "        # Test passed if the user supplies a keyword argument that is either an integer or a float\n",
    "        elif \"seed\" in kwargs and type(kwargs[\"seed\"]) in (int, float):\n",
    "            self._seed = kwargs[\"seed\"]\n",
    "            \n",
    "        # If none of these tests pass, the user has submitted an invalid argument\n",
    "        else:\n",
    "            raise TypeError(\"Invalid type\")\n",
    "            \n",
    "        # Counters for the methods defined below    \n",
    "        self.rand_count = 0\n",
    "        self.rand_bet_count = 0\n",
    "        self.rand_choice_count = 0\n",
    "        self.rand_shuffle_count = 0\n",
    "        \n",
    "    def get_seed(self):\n",
    "        return self._seed\n",
    "\n",
    "        \n",
    "class MyDie(MyRandom):\n",
    "    def throw(self):\n",
    "        \"\"\"Throw the dice\"\"\"\n",
    "        return self.randint(1, 6)\n",
    "\n",
    "    \n",
    "class MyCoin(MyRandom):\n",
    "    outcome = [\"Heads\", \"Tails\"]\n",
    "    \n",
    "    def toss(self):\n",
    "        \"\"\"Toss the coin\"\"\"\n",
    "        return self.outcome[self.randint(0, 1)]"
   ]
  },
  {
   "cell_type": "code",
   "execution_count": null,
   "id": "8b6c60bc",
   "metadata": {},
   "outputs": [],
   "source": [
    "class Test():\n",
    "    def __init__(self, b=\"whatever\"):\n",
    "        print(b)"
   ]
  },
  {
   "cell_type": "code",
   "execution_count": null,
   "id": "ec2cf7f8",
   "metadata": {},
   "outputs": [],
   "source": [
    "test_1 = Test(123)\n",
    "# time = 743"
   ]
  },
  {
   "cell_type": "markdown",
   "id": "a787391b",
   "metadata": {},
   "source": [
    "## Design"
   ]
  },
  {
   "cell_type": "markdown",
   "id": "2fd2911f",
   "metadata": {},
   "source": [
    "There are three posibilities when the user creates an instance of the MyRandom class. They can either provide no arguments, in which case the default seed int(time.time()) is used, they can provide a positional argument MyRandom(1), or they can provide a keyword argument MyRandom(seed = 1). In the latter two cases, the arguments must be of type int or float. The __init__ constructor in the MyRandom class tests for all of these cases. If all of these tests are failed, a TypeError exception is raised, and the user cannot create the instance. This ensures that the seed fed into the random generator is an integer or a floating point. "
   ]
  },
  {
   "cell_type": "markdown",
   "id": "c147d522",
   "metadata": {},
   "source": [
    "## Testing"
   ]
  },
  {
   "cell_type": "markdown",
   "id": "77f3ab04",
   "metadata": {},
   "source": [
    "### Test 1 - Does the .rand method product a random floating point number between 0 and 1"
   ]
  },
  {
   "cell_type": "code",
   "execution_count": null,
   "id": "e3af1dce",
   "metadata": {},
   "outputs": [],
   "source": [
    "mr1 = MyRandom(1)"
   ]
  },
  {
   "cell_type": "code",
   "execution_count": null,
   "id": "5903ba59",
   "metadata": {},
   "outputs": [],
   "source": [
    "mr1.rand()"
   ]
  },
  {
   "cell_type": "code",
   "execution_count": null,
   "id": "bdedb7cc",
   "metadata": {},
   "outputs": [],
   "source": [
    "mr1.seed(3)"
   ]
  },
  {
   "cell_type": "code",
   "execution_count": null,
   "id": "5b843d8c",
   "metadata": {},
   "outputs": [],
   "source": [
    "mr1.get_seed()"
   ]
  },
  {
   "cell_type": "markdown",
   "id": "f7e4847b",
   "metadata": {},
   "source": [
    "### Test 2 - Does the .rand method produce a different random floating point number when called a second time"
   ]
  },
  {
   "cell_type": "code",
   "execution_count": null,
   "id": "43907e05",
   "metadata": {},
   "outputs": [],
   "source": [
    "mr2 = MyRandom(1)\n",
    "mr2.rand()\n"
   ]
  },
  {
   "cell_type": "markdown",
   "id": "95895de3",
   "metadata": {},
   "source": [
    "### Test 3 - Do two instances with the same seed produce the same output when the .rand() method is called"
   ]
  },
  {
   "cell_type": "code",
   "execution_count": null,
   "id": "5bfa89e3",
   "metadata": {},
   "outputs": [],
   "source": [
    "mr2 = MyRandom(seed = 11)\n",
    "mr2.rand()\n"
   ]
  },
  {
   "cell_type": "code",
   "execution_count": null,
   "id": "2e9579b0",
   "metadata": {},
   "outputs": [],
   "source": [
    "mr3 = MyRandom(seed = 11)\n",
    "mr3.rand()\n"
   ]
  },
  {
   "cell_type": "code",
   "execution_count": null,
   "id": "967dd914",
   "metadata": {},
   "outputs": [],
   "source": [
    "for i in range(6):\n",
    "    if i % 3 == 0:\n",
    "        mr2.seed(2)\n",
    "    print(mr2.rand())\n"
   ]
  },
  {
   "cell_type": "code",
   "execution_count": null,
   "id": "0e657d99",
   "metadata": {},
   "outputs": [],
   "source": [
    "for i in range(5):\n",
    "    print(mr2.randint(9,15))\n"
   ]
  },
  {
   "cell_type": "code",
   "execution_count": null,
   "id": "fc81fa9d",
   "metadata": {},
   "outputs": [],
   "source": [
    "mr1.shuffle(['Ace','King','Queen','Jack'])\n"
   ]
  },
  {
   "cell_type": "code",
   "execution_count": null,
   "id": "d89302be",
   "metadata": {},
   "outputs": [],
   "source": [
    "# mr2.seed(1)\n",
    "mr2.shuffle(['Ace','King','Queen','Jack'])"
   ]
  },
  {
   "cell_type": "code",
   "execution_count": null,
   "id": "5a44cc15",
   "metadata": {},
   "outputs": [],
   "source": [
    "mr1.shuffle('Ace')\n"
   ]
  },
  {
   "cell_type": "code",
   "execution_count": null,
   "id": "88925551",
   "metadata": {},
   "outputs": [],
   "source": [
    "mr1.choice(['Ace','King','Queen','Jack'])"
   ]
  },
  {
   "cell_type": "code",
   "execution_count": null,
   "id": "41250f7d",
   "metadata": {},
   "outputs": [],
   "source": [
    "mr1.set_seed(13)\n",
    "mr1.choice(['Ace','King','Queen','Jack'])\n"
   ]
  },
  {
   "cell_type": "code",
   "execution_count": null,
   "id": "9e4bfc05",
   "metadata": {},
   "outputs": [],
   "source": [
    "mr1.set_seed(13)\n",
    "mr1.choice(['Ace','King','Queen','Jack'])\n"
   ]
  },
  {
   "cell_type": "code",
   "execution_count": null,
   "id": "6800a2bb",
   "metadata": {},
   "outputs": [],
   "source": [
    "mc1 = MyCoin()\n"
   ]
  },
  {
   "cell_type": "code",
   "execution_count": null,
   "id": "aea81312",
   "metadata": {},
   "outputs": [],
   "source": [
    "mc1.set_seed(42)\n",
    "mc1.toss()\n"
   ]
  },
  {
   "cell_type": "code",
   "execution_count": null,
   "id": "dc85c6c9",
   "metadata": {},
   "outputs": [],
   "source": [
    "md1 = MyDie()"
   ]
  },
  {
   "cell_type": "code",
   "execution_count": null,
   "id": "a336dc1e",
   "metadata": {},
   "outputs": [],
   "source": [
    "for i in range(5):\n",
    "    print(md1.throw(), mc1.toss())\n"
   ]
  },
  {
   "cell_type": "code",
   "execution_count": null,
   "id": "77b10308",
   "metadata": {},
   "outputs": [],
   "source": [
    "shuf_1 = MyRandom(seed = 1)"
   ]
  },
  {
   "cell_type": "code",
   "execution_count": null,
   "id": "d4d6c036",
   "metadata": {},
   "outputs": [],
   "source": [
    "shuf_2 = MyRandom(seed = 1)"
   ]
  },
  {
   "cell_type": "code",
   "execution_count": null,
   "id": "1ce8b244",
   "metadata": {},
   "outputs": [],
   "source": [
    "shuf_3 = MyRandom(seed = 2)"
   ]
  },
  {
   "cell_type": "code",
   "execution_count": null,
   "id": "325df0f1",
   "metadata": {},
   "outputs": [],
   "source": [
    "print(shuf_1.shuffle(['Ace','King','Queen','Jack']))\n",
    "print(shuf_2.shuffle(['Ace','King','Queen','Jack']))\n",
    "print(shuf_2.shuffle([\"first\", \"second\", \"third\", \"fourth\", \"fifth\", \"sixth\"]))\n",
    "print(shuf_2.shuffle(['Ace','King','Queen','Jack']))\n",
    "print(shuf_3.shuffle(['Ace','King','Queen','Jack']))"
   ]
  }
 ],
 "metadata": {
  "kernelspec": {
   "display_name": "Python 3",
   "language": "python",
   "name": "python3"
  },
  "language_info": {
   "codemirror_mode": {
    "name": "ipython",
    "version": 3
   },
   "file_extension": ".py",
   "mimetype": "text/x-python",
   "name": "python",
   "nbconvert_exporter": "python",
   "pygments_lexer": "ipython3",
   "version": "3.8.8"
  }
 },
 "nbformat": 4,
 "nbformat_minor": 5
}
