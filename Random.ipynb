{
 "cells": [
  {
   "cell_type": "markdown",
   "id": "95129c39",
   "metadata": {},
   "source": [
    "# Random"
   ]
  },
  {
   "cell_type": "markdown",
   "id": "07acfe26",
   "metadata": {},
   "source": [
    "## Class Construction"
   ]
  },
  {
   "cell_type": "code",
   "execution_count": null,
   "id": "72aa0b39",
   "metadata": {},
   "outputs": [],
   "source": [
    "import time"
   ]
  },
  {
   "cell_type": "code",
   "execution_count": null,
   "id": "ea087f5a",
   "metadata": {},
   "outputs": [],
   "source": [
    "class MyRandom():\n",
    "    \n",
    "    def __init__(self, seed = 0):\n",
    "        self.seed(seed)\n",
    "        \n",
    "        \n",
    "    def get_seed(self):\n",
    "        \"\"\"Getter - Gets the current seed value\"\"\"\n",
    "        return self._seed    \n",
    "        \n",
    "        \n",
    "    def seed(self, seed):\n",
    "        \"\"\"Setter - Sets the seed for an instance, and initialises the seed counters\n",
    "        \n",
    "        In the case where no argument is provided, a default seed will be set using int(time.time())\n",
    "        Seed = 0 when no argument is provided, so the test seed == 0 is a test for the absence of an argument\n",
    "        In the case where the argument provided is not an integer or a float, a TypeError will be raised\n",
    "        The seed counters allow us to keep track of where we are in the pseudo-random number sequence\n",
    "        \"\"\"\n",
    "        \n",
    "        if seed == 0:\n",
    "            self._seed = int(time.time())\n",
    "        elif type(seed) in (int, float):\n",
    "            self._seed = seed\n",
    "        else:\n",
    "            raise TypeError(\"Invalid type: Please ensure that seed is an int or a float\")\n",
    "            \n",
    "        # Counters for the methods defined above. These should not be accessible by the user \n",
    "        self.__rand_count = 0\n",
    "        self.__rand_bet_count = 0\n",
    "        self.__rand_choice_count = 0\n",
    "        self.__rand_shuffle_count = 0\n",
    "        \n",
    "        \n",
    "    def _randint(self, x, modulus = 2**16 + 1, a = 75, c = 74):\n",
    "        \"\"\"Linear congruential generator.\n",
    "        \n",
    "        Produces a different random integer each time it is called\n",
    "        Arguments modulus, a and c are obtained from ZX81\n",
    "        \"\"\"\n",
    "        while True:\n",
    "            x = (a * x + c) % modulus\n",
    "            yield x\n",
    "            \n",
    "    \n",
    "    def rand(self):\n",
    "        \"\"\"Returns a random float between 0 and 1\n",
    "        \n",
    "        Iterates through the generator object in the _randint function, incrementing a local counter variable each time\n",
    "        Once the counter reaches the rand_count variable, the random number is returned and rand_count is incremented\n",
    "        This ensures that the sequence of random numbers starting at seed = x is the same each time\n",
    "        The user can create 2 instances with seed = x and produce n random numbers for each\n",
    "        The n random numbers produced will be the same for both instances\n",
    "        \"\"\"\n",
    "        counter = -1\n",
    "        for i in self._randint(self._seed):\n",
    "            counter += 1\n",
    "            if counter == self.__rand_count:\n",
    "                self.__rand_count += 1\n",
    "                return i / (2**16 - 1)\n",
    "    \n",
    "    \n",
    "    def randint(self, bot, top):\n",
    "        \"\"\"Takes two integers as argument and returns a random integer between these two integers\n",
    "        \n",
    "        Checks that the arguments supplied by the user are valid\n",
    "        Both should be integers and top >= bot\n",
    "        A random integer is obtained using that same method as was used in rand\n",
    "        Mathematical techniques are applied to ensure that the integer produced is in the range (bot, top)\n",
    "        \"\"\"\n",
    "        if type(bot) == type(top) == int and top >= bot:\n",
    "            counter = -1\n",
    "            for i in self._randint(self._seed):\n",
    "                counter += 1\n",
    "                if counter == self.__rand_bet_count:\n",
    "                    self.__rand_bet_count += 1\n",
    "                    return int(round((top - bot) * (i / (2**16 - 1)) + bot, 0))\n",
    "                \n",
    "        else:\n",
    "            return \"Error, invalid input\"\n",
    "    \n",
    "    \n",
    "    def shuffle(self, shuffle_list):\n",
    "        \"\"\"Takes a list as argument and returns a shuffled version of that list\n",
    "        \n",
    "        Checks that the user argument is a list\n",
    "        Uses the Fisher-Yates shuffle\n",
    "        Random numbers are obtained using the same techniques discussed in rand and randint\n",
    "        \"\"\"\n",
    "        if type(shuffle_list) == list:\n",
    "\n",
    "            for i in range(len(shuffle_list)-1, 0, -1):\n",
    "                bot, top = 0, i\n",
    "                counter = -1\n",
    "                for j in self._randint(self._seed):\n",
    "                    counter += 1\n",
    "                    if counter == self.__rand_shuffle_count:\n",
    "                        self.__rand_shuffle_count += 1\n",
    "                        j = int(round((top - bot) * (j / (2**16 - 1)) + bot, 0))\n",
    "                        shuffle_list[i], shuffle_list[j] = shuffle_list[j], shuffle_list[i]\n",
    "                        break\n",
    "                    \n",
    "                            \n",
    "            \n",
    "            return shuffle_list\n",
    "                \n",
    "        \n",
    "        else:\n",
    "            return \"Error, input must be a list\"\n",
    "    \n",
    "    \n",
    "    def choice(self, choice_list):\n",
    "        \"\"\"Selects a single item at random from a list given as argument\n",
    "        \n",
    "        Checks that the user argument is a list\n",
    "        Uses randint to get a random index corresponding to an item in the provided list\n",
    "        Random index is obtained using the same techniques discussed in rand and randint\n",
    "        \"\"\"\n",
    "        if type(choice_list) == list:\n",
    "            bot, top = 0, len(choice_list) - 1\n",
    "            counter = -1\n",
    "            for i in self._randint(self._seed):\n",
    "                counter += 1\n",
    "                if counter == self.__rand_choice_count:\n",
    "                    self.__rand_choice_count += 1\n",
    "                    return choice_list[int(round((top - bot) * (i / (2**16 - 1)) + bot, 0))]\n",
    "                \n",
    "        else:\n",
    "            return \"Error, input must be a list\"\n",
    "\n",
    "        \n",
    "class MyDie(MyRandom):\n",
    "    def throw(self):\n",
    "        \"\"\"Throw the dice\"\"\"\n",
    "        return self.randint(1, 6)\n",
    "\n",
    "    \n",
    "class MyCoin(MyRandom):\n",
    "    outcome = [\"Heads\", \"Tails\"]\n",
    "    \n",
    "    def toss(self):\n",
    "        \"\"\"Toss the coin\"\"\"\n",
    "        return self.outcome[self.randint(0, 1)]"
   ]
  },
  {
   "cell_type": "markdown",
   "id": "20718d90",
   "metadata": {},
   "source": [
    "## Design"
   ]
  },
  {
   "cell_type": "markdown",
   "id": "34f6fe8a",
   "metadata": {},
   "source": [
    "There are three posibilities when the user creates an instance of the MyRandom class. They can either provide no arguments, in which case the default seed int(time.time()) is used, they can provide a positional argument MyRandom(1), or they can provide a keyword argument MyRandom(seed = 1). In the latter two cases, the arguments must be of type int or float. The setter \"seed\" in the MyRandom class tests the argument's type. If the type is not an int or a float, a TypeError exception is raised, and the user cannot create the instance. This ensures that the seed fed into the random generator is an integer or a floating point. \n",
    "\n",
    "I used a linear congruential generator to generate a series of pseudorandom numbers. Most methods in the MyRandom class obtain a pseudorandom number by creating a generator object using the randint(seed) method. They iterate through this generator object until a specific point in the series is reached. The point at which the iteration stops is determined by how many times the method has been invoked for a particular instance. For example, if an instance of MyRandom with seed = 1 is first created and rand() is called, the iteration will stop at the first point in the generated series. If rand() is called again, the iteration will stop at the second point in the series, and so on so forth. This ensures that, for a given seed, the series of random numbers produced will be the same each time. If I were to create a random instance with seed = 1, generate 3 random numbers, then create another instance with seed = 1 and generate 3 more random numbers, the second set of random numbers will be the same as the first set. If the seed is reset for a particular method, a new series will be created and the iteration will start from the beginning of the new series"
   ]
  },
  {
   "cell_type": "markdown",
   "id": "01e91f09",
   "metadata": {},
   "source": [
    "## Testing"
   ]
  },
  {
   "cell_type": "markdown",
   "id": "8387de38",
   "metadata": {},
   "source": [
    "### Appendix:"
   ]
  },
  {
   "cell_type": "markdown",
   "id": "60f03e95",
   "metadata": {},
   "source": [
    "#### MyRandom"
   ]
  },
  {
   "cell_type": "code",
   "execution_count": null,
   "id": "ec45080e",
   "metadata": {},
   "outputs": [],
   "source": [
    "mr1 = MyRandom()\n",
    "mr1.rand()"
   ]
  },
  {
   "cell_type": "code",
   "execution_count": null,
   "id": "308ac8f3",
   "metadata": {},
   "outputs": [],
   "source": [
    "mr1 = MyRandom()\n",
    "mr1.rand()"
   ]
  },
  {
   "cell_type": "code",
   "execution_count": null,
   "id": "eac57852",
   "metadata": {},
   "outputs": [],
   "source": [
    "mr2 = MyRandom(seed = 11)\n",
    "mr2.rand()"
   ]
  },
  {
   "cell_type": "code",
   "execution_count": null,
   "id": "87f17772",
   "metadata": {},
   "outputs": [],
   "source": [
    "mr2 = MyRandom(seed = 11)\n",
    "mr2.rand()"
   ]
  },
  {
   "cell_type": "code",
   "execution_count": null,
   "id": "0b0883ff",
   "metadata": {},
   "outputs": [],
   "source": [
    "for i in range(5):\n",
    "    print(mr2.rand())"
   ]
  },
  {
   "cell_type": "code",
   "execution_count": null,
   "id": "34377dbf",
   "metadata": {},
   "outputs": [],
   "source": [
    "for i in range(5):\n",
    "    print(mr2.randint(9,15))"
   ]
  },
  {
   "cell_type": "code",
   "execution_count": null,
   "id": "9eb8479e",
   "metadata": {},
   "outputs": [],
   "source": [
    "mr1.shuffle([\"A\", \"K\", \"Q\", \"J\"])"
   ]
  },
  {
   "cell_type": "code",
   "execution_count": null,
   "id": "897a7f4f",
   "metadata": {},
   "outputs": [],
   "source": [
    "mr1.shuffle(\"Ace\")"
   ]
  },
  {
   "cell_type": "code",
   "execution_count": null,
   "id": "c492c409",
   "metadata": {},
   "outputs": [],
   "source": [
    "mr1.choice([\"A\", \"K\", \"Q\", \"J\"])"
   ]
  },
  {
   "cell_type": "code",
   "execution_count": null,
   "id": "415585e6",
   "metadata": {},
   "outputs": [],
   "source": [
    "mr1.seed(13)\n",
    "mr1.choice([\"A\", \"K\", \"Q\", \"J\"])"
   ]
  },
  {
   "cell_type": "code",
   "execution_count": null,
   "id": "94d7e38b",
   "metadata": {},
   "outputs": [],
   "source": [
    "mr1.seed(13)\n",
    "mr1.choice([\"A\", \"K\", \"Q\", \"J\"])"
   ]
  },
  {
   "cell_type": "markdown",
   "id": "934b4155",
   "metadata": {},
   "source": [
    "#### MyCoin and MyDie subclasses"
   ]
  },
  {
   "cell_type": "code",
   "execution_count": null,
   "id": "62700907",
   "metadata": {},
   "outputs": [],
   "source": [
    "mc1 = MyCoin()"
   ]
  },
  {
   "cell_type": "code",
   "execution_count": null,
   "id": "a181fc4f",
   "metadata": {},
   "outputs": [],
   "source": [
    "mc1.seed(42)\n",
    "mc1.toss()"
   ]
  },
  {
   "cell_type": "code",
   "execution_count": null,
   "id": "a29de82d",
   "metadata": {},
   "outputs": [],
   "source": [
    "md1 = MyDie()"
   ]
  },
  {
   "cell_type": "code",
   "execution_count": null,
   "id": "69607d2d",
   "metadata": {},
   "outputs": [],
   "source": [
    "for i in range(5):\n",
    "    print(md1.throw(), mc1.toss())"
   ]
  },
  {
   "cell_type": "markdown",
   "id": "c7ff8f6b",
   "metadata": {},
   "source": [
    "### Additional Tests:"
   ]
  },
  {
   "cell_type": "markdown",
   "id": "e97fb616",
   "metadata": {},
   "source": [
    "#### Test the distribution of dice rolls"
   ]
  },
  {
   "cell_type": "code",
   "execution_count": null,
   "id": "5e4c28cc",
   "metadata": {},
   "outputs": [],
   "source": [
    "distribution = [0] * 6\n",
    "for i in range(1000):\n",
    "    result = md1.throw()\n",
    "    distribution[result-1] += 1\n",
    "distribution = [x / 10 for x in distribution]\n",
    "print(distribution)"
   ]
  },
  {
   "cell_type": "markdown",
   "id": "f8fe6337",
   "metadata": {},
   "source": [
    "#### Error Checking - Seed Setter Input Checks"
   ]
  },
  {
   "cell_type": "code",
   "execution_count": null,
   "id": "92eb37bf",
   "metadata": {},
   "outputs": [],
   "source": [
    "mr = MyRandom(seed = \"three\")"
   ]
  },
  {
   "cell_type": "code",
   "execution_count": null,
   "id": "c1606fee",
   "metadata": {},
   "outputs": [],
   "source": [
    "mr = MyRandom(True)"
   ]
  },
  {
   "cell_type": "code",
   "execution_count": null,
   "id": "76d06d6d",
   "metadata": {},
   "outputs": [],
   "source": [
    "mr = MyRandom([3])"
   ]
  },
  {
   "cell_type": "code",
   "execution_count": null,
   "id": "a641fcc9",
   "metadata": {},
   "outputs": [],
   "source": [
    "mr = MyRandom({\"seed\":3})"
   ]
  }
 ],
 "metadata": {
  "kernelspec": {
   "display_name": "Python 3",
   "language": "python",
   "name": "python3"
  },
  "language_info": {
   "codemirror_mode": {
    "name": "ipython",
    "version": 3
   },
   "file_extension": ".py",
   "mimetype": "text/x-python",
   "name": "python",
   "nbconvert_exporter": "python",
   "pygments_lexer": "ipython3",
   "version": "3.10.0"
  }
 },
 "nbformat": 4,
 "nbformat_minor": 5
}
